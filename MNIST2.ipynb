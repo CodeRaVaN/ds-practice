{
 "cells": [
  {
   "cell_type": "code",
   "execution_count": 2,
   "metadata": {},
   "outputs": [],
   "source": [
    "import numpy as np"
   ]
  },
  {
   "cell_type": "code",
   "execution_count": 4,
   "metadata": {},
   "outputs": [],
   "source": [
    "import math"
   ]
  },
  {
   "cell_type": "code",
   "execution_count": 6,
   "metadata": {},
   "outputs": [],
   "source": [
    "import matplotlib.pylab as plt"
   ]
  },
  {
   "cell_type": "code",
   "execution_count": 7,
   "metadata": {},
   "outputs": [],
   "source": [
    "from struct import unpack"
   ]
  },
  {
   "cell_type": "code",
   "execution_count": 9,
   "metadata": {},
   "outputs": [],
   "source": [
    "def loadmnist(imagefile, labelfile):\n",
    "\n",
    "    # Open the images with gzip in read binary mode\n",
    "    images = open(imagefile, 'rb')\n",
    "    labels = open(labelfile, 'rb')\n",
    "\n",
    "    # Get metadata for images\n",
    "    images.read(4)  # skip the magic_number\n",
    "    number_of_images = images.read(4)\n",
    "    number_of_images = unpack('>I', number_of_images)[0]\n",
    "    rows = images.read(4)\n",
    "    rows = unpack('>I', rows)[0]\n",
    "    cols = images.read(4)\n",
    "    cols = unpack('>I', cols)[0]\n",
    "\n",
    "    # Get metadata for labels\n",
    "    labels.read(4)\n",
    "    N = labels.read(4)\n",
    "    N = unpack('>I', N)[0]\n",
    "\n",
    "    # Get data\n",
    "    x = np.zeros((N, rows*cols), dtype=np.uint8)  # Initialize numpy array\n",
    "    y = np.zeros(N, dtype=np.uint8)  # Initialize numpy array\n",
    "    for i in range(N):\n",
    "        for j in range(rows*cols):\n",
    "            tmp_pixel = images.read(1)  # Just a single byte\n",
    "            tmp_pixel = unpack('>B', tmp_pixel)[0]\n",
    "            x[i][j] = tmp_pixel\n",
    "        tmp_label = labels.read(1)\n",
    "        y[i] = unpack('>B', tmp_label)[0]\n",
    "\n",
    "    images.close()\n",
    "    labels.close()\n",
    "    return (x, y)"
   ]
  },
  {
   "cell_type": "code",
   "execution_count": 11,
   "metadata": {},
   "outputs": [],
   "source": [
    "def displaychar(image):\n",
    "    plt.imshow(np.reshape(image, (28,28)), cmap=plt.cm.gray)\n",
    "    plt.axis('off')\n",
    "    plt.show()"
   ]
  },
  {
   "cell_type": "code",
   "execution_count": 16,
   "metadata": {},
   "outputs": [],
   "source": [
    "images,labels= loadmnist('train-images-idx3-ubyte', 'train-labels-idx1-ubyte')"
   ]
  },
  {
   "cell_type": "code",
   "execution_count": 21,
   "metadata": {},
   "outputs": [
    {
     "data": {
      "text/plain": [
       "(60000, 784)"
      ]
     },
     "execution_count": 21,
     "metadata": {},
     "output_type": "execute_result"
    }
   ],
   "source": [
    "images.shape"
   ]
  },
  {
   "cell_type": "code",
   "execution_count": 24,
   "metadata": {},
   "outputs": [
    {
     "data": {
      "text/plain": [
       "(60000,)"
      ]
     },
     "execution_count": 24,
     "metadata": {},
     "output_type": "execute_result"
    }
   ],
   "source": [
    "labels.shape"
   ]
  },
  {
   "cell_type": "code",
   "execution_count": 31,
   "metadata": {},
   "outputs": [],
   "source": [
    "train_images = images[0:50000]"
   ]
  },
  {
   "cell_type": "code",
   "execution_count": 39,
   "metadata": {},
   "outputs": [],
   "source": [
    "train_labels = labels[0:50000]"
   ]
  },
  {
   "cell_type": "code",
   "execution_count": 40,
   "metadata": {},
   "outputs": [
    {
     "data": {
      "text/plain": [
       "(50000, 784)"
      ]
     },
     "execution_count": 40,
     "metadata": {},
     "output_type": "execute_result"
    }
   ],
   "source": [
    "train_images.shape"
   ]
  },
  {
   "cell_type": "code",
   "execution_count": 57,
   "metadata": {},
   "outputs": [
    {
     "data": {
      "text/plain": [
       "(50000,)"
      ]
     },
     "execution_count": 57,
     "metadata": {},
     "output_type": "execute_result"
    }
   ],
   "source": [
    "train_labels.shape"
   ]
  },
  {
   "cell_type": "code",
   "execution_count": 43,
   "metadata": {},
   "outputs": [],
   "source": [
    "test_images = images[50000:60000]"
   ]
  },
  {
   "cell_type": "code",
   "execution_count": 49,
   "metadata": {},
   "outputs": [],
   "source": [
    "test_labels = labels[50000:60000]"
   ]
  },
  {
   "cell_type": "code",
   "execution_count": 47,
   "metadata": {},
   "outputs": [
    {
     "data": {
      "text/plain": [
       "(10000, 784)"
      ]
     },
     "execution_count": 47,
     "metadata": {},
     "output_type": "execute_result"
    }
   ],
   "source": [
    "test_images.shape"
   ]
  },
  {
   "cell_type": "code",
   "execution_count": 51,
   "metadata": {},
   "outputs": [
    {
     "data": {
      "text/plain": [
       "(10000,)"
      ]
     },
     "execution_count": 51,
     "metadata": {},
     "output_type": "execute_result"
    }
   ],
   "source": [
    "test_labels.shape"
   ]
  },
  {
   "cell_type": "code",
   "execution_count": 70,
   "metadata": {},
   "outputs": [],
   "source": [
    "def filterTrainingDataByClass(klass):\n",
    "    igs = [];\n",
    "    for i, image in enumerate(train_labels):\n",
    "        if(train_labels[i] == klass):\n",
    "            igs.append(train_images[i]);\n",
    "    igs = np.matrix(igs);\n",
    "    return igs;"
   ]
  },
  {
   "cell_type": "code",
   "execution_count": 53,
   "metadata": {},
   "outputs": [
    {
     "data": {
      "text/plain": [
       "numpy.ndarray"
      ]
     },
     "execution_count": 53,
     "metadata": {},
     "output_type": "execute_result"
    }
   ],
   "source": [
    "type(train_labels)"
   ]
  },
  {
   "cell_type": "code",
   "execution_count": 71,
   "metadata": {},
   "outputs": [],
   "source": [
    "v = filterTrainingDataByClass(0);    "
   ]
  },
  {
   "cell_type": "code",
   "execution_count": 73,
   "metadata": {},
   "outputs": [
    {
     "data": {
      "text/plain": [
       "(4932, 784)"
      ]
     },
     "execution_count": 73,
     "metadata": {},
     "output_type": "execute_result"
    }
   ],
   "source": [
    "v.shape"
   ]
  },
  {
   "cell_type": "code",
   "execution_count": 75,
   "metadata": {},
   "outputs": [],
   "source": [
    "mean = np.array(v.mean(0))[0]"
   ]
  },
  {
   "cell_type": "code",
   "execution_count": 77,
   "metadata": {},
   "outputs": [],
   "source": [
    "cov = np.cov(v.T)"
   ]
  },
  {
   "cell_type": "code",
   "execution_count": 81,
   "metadata": {},
   "outputs": [],
   "source": [
    "from scipy.stats import multivariate_normal"
   ]
  },
  {
   "cell_type": "code",
   "execution_count": 85,
   "metadata": {},
   "outputs": [],
   "source": [
    "var = multivariate_normal(mean=mean, cov=cov, allow_singular=True)"
   ]
  },
  {
   "cell_type": "code",
   "execution_count": 90,
   "metadata": {},
   "outputs": [
    {
     "data": {
      "text/plain": [
       "0.0"
      ]
     },
     "execution_count": 90,
     "metadata": {},
     "output_type": "execute_result"
    }
   ],
   "source": [
    "var.pdf(test_images[1])"
   ]
  },
  {
   "cell_type": "code",
   "execution_count": 91,
   "metadata": {},
   "outputs": [],
   "source": [
    "classes = [0,1,2,3,4,5,6,7,8,9]"
   ]
  },
  {
   "cell_type": "code",
   "execution_count": 295,
   "metadata": {},
   "outputs": [],
   "source": [
    "def calculateProbabilities(const):\n",
    "    probabilities = [];\n",
    "    for klass in classes:\n",
    "        filteredData = filterTrainingDataByClass(klass)\n",
    "        mean = np.array(filteredData.mean(0))[0]\n",
    "        cov = np.cov(filteredData, rowvar = 0)\n",
    "        cov_smoothed = cov + (const * np.eye(mean.shape[0]))\n",
    "        p_x = multivariate_normal(mean=mean, cov=cov_smoothed)\n",
    "        probabilities.append(p_x)\n",
    "    return probabilities;"
   ]
  },
  {
   "cell_type": "code",
   "execution_count": 282,
   "metadata": {},
   "outputs": [],
   "source": [
    "from sklearn.naive_bayes import GaussianNB"
   ]
  },
  {
   "cell_type": "code",
   "execution_count": 283,
   "metadata": {},
   "outputs": [],
   "source": [
    "gnb = GaussianNB()"
   ]
  },
  {
   "cell_type": "code",
   "execution_count": 284,
   "metadata": {},
   "outputs": [
    {
     "data": {
      "text/plain": [
       "GaussianNB(priors=None)"
      ]
     },
     "execution_count": 284,
     "metadata": {},
     "output_type": "execute_result"
    }
   ],
   "source": [
    "gnb.fit(train_images, train_labels)"
   ]
  },
  {
   "cell_type": "code",
   "execution_count": 296,
   "metadata": {},
   "outputs": [],
   "source": [
    "def calculateBayesProb(x, prior_probs, post_probs):\n",
    "    bayes_probs = []\n",
    "    for klass in classes:\n",
    "        prob = [klass, np.log(prior_probs[klass]) + post_probs[klass].logpdf(x)]\n",
    "        bayes_probs.append(prob)\n",
    "    return bayes_probs;"
   ]
  },
  {
   "cell_type": "code",
   "execution_count": 322,
   "metadata": {},
   "outputs": [],
   "source": [
    "def runExperiment(const):\n",
    "    errors = [];\n",
    "    prior_probs = gnb.class_prior_\n",
    "    post_probs = calculateProbabilities(const);\n",
    "    for t in range(test_labels.size):\n",
    "        pp = calculateBayesProb(test_images[t], prior_probs, post_probs);\n",
    "        pred = max(pp, key= lambda a: a[1])[0];\n",
    "        actual = test_labels[t];\n",
    "        if pred != actual:\n",
    "            errors.append([t, pred, pp]);\n",
    "    print(\"Test sample size: \" + str(test_labels.size) + \", C : \" + str(const) \n",
    "          + \", Error Rate : \" + str(float(len(errors)/test_labels.size) * 100) + \"%\");\n",
    "    return errors;"
   ]
  },
  {
   "cell_type": "code",
   "execution_count": 298,
   "metadata": {},
   "outputs": [
    {
     "name": "stdout",
     "output_type": "stream",
     "text": [
      "Test sample : 10000, C : 10, Accuracy : 12.25%\n",
      "Test sample : 10000, C : 100, Accuracy : 7.829999999999999%\n",
      "Test sample : 10000, C : 1000, Accuracy : 4.71%\n",
      "Test sample : 10000, C : 10000, Accuracy : 4.89%\n"
     ]
    }
   ],
   "source": [
    "const_values = [10,100,1000,10000];\n",
    "prior_probs = [];\n",
    "post_probs = [];\n",
    "for c in const_values:\n",
    "    runExperiment(c);"
   ]
  },
  {
   "cell_type": "code",
   "execution_count": 300,
   "metadata": {},
   "outputs": [
    {
     "name": "stdout",
     "output_type": "stream",
     "text": [
      "Test sample size: 10000, C : 1000, Error Rate : 4.71%\n",
      "Test sample size: 10000, C : 2000, Error Rate : 4.2700000000000005%\n",
      "Test sample size: 10000, C : 3000, Error Rate : 4.14%\n",
      "Test sample size: 10000, C : 4000, Error Rate : 4.14%\n",
      "Test sample size: 10000, C : 5000, Error Rate : 4.17%\n",
      "Test sample size: 10000, C : 6000, Error Rate : 4.26%\n",
      "Test sample size: 10000, C : 7000, Error Rate : 4.42%\n",
      "Test sample size: 10000, C : 8000, Error Rate : 4.58%\n",
      "Test sample size: 10000, C : 9000, Error Rate : 4.7%\n"
     ]
    }
   ],
   "source": [
    "const_values = [1000,2000,3000,4000,5000,6000,7000,8000,9000];\n",
    "for c in const_values:\n",
    "    runExperiment(c);"
   ]
  },
  {
   "cell_type": "code",
   "execution_count": 301,
   "metadata": {},
   "outputs": [
    {
     "name": "stdout",
     "output_type": "stream",
     "text": [
      "Test sample size: 10000, C : 3100, Error Rate : 4.109999999999999%\n",
      "Test sample size: 10000, C : 3200, Error Rate : 4.130000000000001%\n",
      "Test sample size: 10000, C : 3300, Error Rate : 4.1000000000000005%\n",
      "Test sample size: 10000, C : 3400, Error Rate : 4.1000000000000005%\n",
      "Test sample size: 10000, C : 3500, Error Rate : 4.130000000000001%\n",
      "Test sample size: 10000, C : 3600, Error Rate : 4.130000000000001%\n",
      "Test sample size: 10000, C : 3700, Error Rate : 4.14%\n",
      "Test sample size: 10000, C : 3800, Error Rate : 4.109999999999999%\n",
      "Test sample size: 10000, C : 3900, Error Rate : 4.14%\n"
     ]
    }
   ],
   "source": [
    "const_values = [3100,3200,3300,3400,3500,3600,3700,3800,3900];\n",
    "for c in const_values:\n",
    "    runExperiment(c);"
   ]
  },
  {
   "cell_type": "markdown",
   "metadata": {},
   "source": [
    "<b>Optimal Value of C = 3300, Error Rate = 4.10 %</b>"
   ]
  },
  {
   "cell_type": "code",
   "execution_count": 323,
   "metadata": {},
   "outputs": [
    {
     "name": "stdout",
     "output_type": "stream",
     "text": [
      "Test sample size: 10000, C : 3300, Error Rate : 4.1000000000000005%\n"
     ]
    }
   ],
   "source": [
    "errs = runExperiment(3300);"
   ]
  },
  {
   "cell_type": "code",
   "execution_count": 325,
   "metadata": {},
   "outputs": [
    {
     "data": {
      "text/plain": [
       "[47,\n",
       " 9,\n",
       " [[0, -4125.5361657485255],\n",
       "  [1, -4157.620995978538],\n",
       "  [2, -4124.74881516322],\n",
       "  [3, -4100.960298328924],\n",
       "  [4, -4071.0277764999173],\n",
       "  [5, -4096.325446970043],\n",
       "  [6, -4173.832918059362],\n",
       "  [7, -4030.0298266740397],\n",
       "  [8, -4099.122445753781],\n",
       "  [9, -4026.451672252373]]]"
      ]
     },
     "execution_count": 325,
     "metadata": {},
     "output_type": "execute_result"
    }
   ],
   "source": [
    "errs[0]"
   ]
  },
  {
   "cell_type": "code",
   "execution_count": 326,
   "metadata": {},
   "outputs": [
    {
     "data": {
      "text/plain": [
       "410"
      ]
     },
     "execution_count": 326,
     "metadata": {},
     "output_type": "execute_result"
    }
   ],
   "source": [
    "len(errs)"
   ]
  },
  {
   "cell_type": "code",
   "execution_count": 329,
   "metadata": {},
   "outputs": [
    {
     "name": "stdout",
     "output_type": "stream",
     "text": [
      "Predicted Digit : 9 , Actual Digit : 7\n",
      "Posterior Probabilities : [[0, -4125.5361657485255], [1, -4157.620995978538], [2, -4124.74881516322], [3, -4100.960298328924], [4, -4071.0277764999173], [5, -4096.325446970043], [6, -4173.832918059362], [7, -4030.0298266740397], [8, -4099.122445753781], [9, -4026.451672252373]]\n"
     ]
    },
    {
     "data": {
      "image/png": "[encoded data removed]",
      "text/plain": [
       "<matplotlib.figure.Figure at 0x10f4f7e80>"
      ]
     },
     "metadata": {},
     "output_type": "display_data"
    },
    {
     "name": "stdout",
     "output_type": "stream",
     "text": [
      "Predicted Digit : 9 , Actual Digit : 8\n",
      "Posterior Probabilities : [[0, -4170.972945939559], [1, -4114.725836238323], [2, -4148.811883187311], [3, -4126.770218421258], [4, -4095.8014949909257], [5, -4135.42258028463], [6, -4162.220129835645], [7, -4086.3596740411294], [8, -4081.404147649684], [9, -4073.849368067802]]\n"
     ]
    },
    {
     "data": {
      "image/png": "[encoded data removed]",
      "text/plain": [
       "<matplotlib.figure.Figure at 0x108954b70>"
      ]
     },
     "metadata": {},
     "output_type": "display_data"
    },
    {
     "name": "stdout",
     "output_type": "stream",
     "text": [
      "Predicted Digit : 8 , Actual Digit : 9\n",
      "Posterior Probabilities : [[0, -4121.530953682986], [1, -4355.92842956844], [2, -4124.212280040015], [3, -4091.2303890009816], [4, -4155.848198232067], [5, -4119.2153919333205], [6, -4230.63348486469], [7, -4168.9133532057895], [8, -4089.7551812915012], [9, -4098.106690669574]]\n"
     ]
    },
    {
     "data": {
      "image/png": "[encoded data removed]",
      "text/plain": [
       "<matplotlib.figure.Figure at 0x10f63f4e0>"
      ]
     },
     "metadata": {},
     "output_type": "display_data"
    },
    {
     "name": "stdout",
     "output_type": "stream",
     "text": [
      "Predicted Digit : 1 , Actual Digit : 9\n",
      "Posterior Probabilities : [[0, -4134.407178835841], [1, -4038.5336069907694], [2, -4092.429779446329], [3, -4110.366738743766], [4, -4064.7889591673793], [5, -4133.779509343512], [6, -4145.210317021215], [7, -4050.5351005362095], [8, -4065.7873974196095], [9, -4044.324935051058]]\n"
     ]
    },
    {
     "data": {
      "image/png": "[encoded data removed]",
      "text/plain": [
       "<matplotlib.figure.Figure at 0x10f5c5fd0>"
      ]
     },
     "metadata": {},
     "output_type": "display_data"
    },
    {
     "name": "stdout",
     "output_type": "stream",
     "text": [
      "Predicted Digit : 4 , Actual Digit : 1\n",
      "Posterior Probabilities : [[0, -4126.273469929265], [1, -4071.441824679192], [2, -4095.7920522704535], [3, -4107.092241898199], [4, -4070.208060047154], [5, -4124.501455837799], [6, -4122.1207302580615], [7, -4079.314174492619], [8, -4083.263930085341], [9, -4077.632512102092]]\n"
     ]
    },
    {
     "data": {
      "image/png": "[encoded data removed]",
      "text/plain": [
       "<matplotlib.figure.Figure at 0x10aeb3c50>"
      ]
     },
     "metadata": {},
     "output_type": "display_data"
    }
   ],
   "source": [
    "for idx,pred,pp in errs[0:5]:\n",
    "    print(\"Predicted Digit : \" + str(pred) + \" , Actual Digit : \" + str(test_labels[idx]));\n",
    "    print(\"Posterior Probabilities : \" + str(pp));\n",
    "    displaychar(test_images[idx]);"
   ]
  }
 ],
 "metadata": {
  "kernelspec": {
   "display_name": "Python 3",
   "language": "python",
   "name": "python3"
  },
  "language_info": {
   "codemirror_mode": {
    "name": "ipython",
    "version": 3
   },
   "file_extension": ".py",
   "mimetype": "text/x-python",
   "name": "python",
   "nbconvert_exporter": "python",
   "pygments_lexer": "ipython3",
   "version": "3.6.4"
  }
 },
 "nbformat": 4,
 "nbformat_minor": 2
}
